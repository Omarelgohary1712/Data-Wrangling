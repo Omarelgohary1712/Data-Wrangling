{
 "cells": [
  {
   "cell_type": "code",
   "execution_count": 2,
   "id": "7542d3db",
   "metadata": {},
   "outputs": [],
   "source": [
    "import pandas as pd\n",
    "import numpy as np"
   ]
  },
  {
   "cell_type": "code",
   "execution_count": null,
   "id": "ff45482d",
   "metadata": {},
   "outputs": [
    {
     "name": "stdout",
     "output_type": "stream",
     "text": [
      "     OrderID CustomerID   OrderDate ShippedDate       ShippingCost  \\\n",
      "0     1000.0       C001  2025-05-17  2025-07-30  -57.2545460244498   \n",
      "1     1001.0       C002  2025-01-26  2025-07-30             320.61   \n",
      "2     1002.0       C003  2025-03-08  2025-07-30             165.17   \n",
      "3     1003.0       C004  2025-03-24  2025-07-30              12.55   \n",
      "4     1004.0       C005  2025-04-15  2025-07-30             186.36   \n",
      "..       ...        ...         ...         ...                ...   \n",
      "240   1240.0       C001  2024-11-19  2025-07-30             372.98   \n",
      "241   1241.0       C002  not_a_date  2025-07-30                NaN   \n",
      "242   1242.0       C003  2025-01-16  2025-07-30             241.16   \n",
      "243   1243.0       C004  2024-09-16  2025-07-30              83.54   \n",
      "244   1244.0       C005  2025-01-28  2025-07-30             430.17   \n",
      "\n",
      "    ShipCountry    ShipCity                 ShippingCompany  \n",
      "0       Germany     Hamburg  Kiwilytics Goods Shipping LLC.  \n",
      "1        Canada    Montreal                   UPS Worldwide  \n",
      "2        Canada   Vancouver                 FedEx Logistics  \n",
      "3       Germany      Munich            Aramex International  \n",
      "4        Canada   Vancouver                 FedEx Logistics  \n",
      "..          ...         ...                             ...  \n",
      "240          UK  Manchester            Aramex International  \n",
      "241         USA     Houston            Aramex International  \n",
      "242         USA    New York  Kiwilytics Goods Shipping LLC.  \n",
      "243       Egypt       Cairo                     DHL Express  \n",
      "244     Germany      Berlin            Aramex International  \n",
      "\n",
      "[245 rows x 8 columns]\n"
     ]
    }
   ],
   "source": [
    "df = pd.read_csv(\"/home/kiwilytics/Downloads/Orders_with_issues.csv\") #export data\n",
    "\n",
    "print(df)"
   ]
  },
  {
   "cell_type": "code",
   "execution_count": null,
   "id": "d6ec7015",
   "metadata": {},
   "outputs": [
    {
     "name": "stdout",
     "output_type": "stream",
     "text": [
      "<class 'pandas.core.frame.DataFrame'>\n",
      "RangeIndex: 245 entries, 0 to 244\n",
      "Data columns (total 8 columns):\n",
      " #   Column           Non-Null Count  Dtype  \n",
      "---  ------           --------------  -----  \n",
      " 0   OrderID          239 non-null    float64\n",
      " 1   CustomerID       240 non-null    object \n",
      " 2   OrderDate        237 non-null    object \n",
      " 3   ShippedDate      219 non-null    object \n",
      " 4   ShippingCost     231 non-null    object \n",
      " 5   ShipCountry      245 non-null    object \n",
      " 6   ShipCity         241 non-null    object \n",
      " 7   ShippingCompany  245 non-null    object \n",
      "dtypes: float64(1), object(7)\n",
      "memory usage: 15.4+ KB\n",
      "None\n",
      "    OrderID CustomerID   OrderDate ShippedDate       ShippingCost ShipCountry  \\\n",
      "0    1000.0       C001  2025-05-17  2025-07-30  -57.2545460244498     Germany   \n",
      "1    1001.0       C002  2025-01-26  2025-07-30             320.61      Canada   \n",
      "2    1002.0       C003  2025-03-08  2025-07-30             165.17      Canada   \n",
      "3    1003.0       C004  2025-03-24  2025-07-30              12.55     Germany   \n",
      "4    1004.0       C005  2025-04-15  2025-07-30             186.36      Canada   \n",
      "5    1005.0       C006  2024-12-24  2025-07-30              74.93         USA   \n",
      "6    1006.0       C007         NaN  2025-07-30             229.93         USA   \n",
      "7    1007.0       C008  2024-08-10  2025-07-30             209.94     Germany   \n",
      "8    1008.0       C009  2025-02-06  2025-07-30                NaN         USA   \n",
      "9    1009.0       C010  not_a_date  2025-07-30             394.37         USA   \n",
      "10   1010.0       C011  2024-12-03  2025-07-30              16.05     Germany   \n",
      "11   1011.0       C012  2024-10-08  2025-07-30             391.79      Canada   \n",
      "12   1012.0       C013         NaN  2025-07-30             284.17      Canada   \n",
      "13   1013.0       C014  2025-02-04  2025-07-30             128.94         USA   \n",
      "14   1014.0       C015  2024-10-20         NaN              345.8      Canada   \n",
      "\n",
      "       ShipCity                 ShippingCompany  \n",
      "0       Hamburg  Kiwilytics Goods Shipping LLC.  \n",
      "1      Montreal                   UPS Worldwide  \n",
      "2     Vancouver                 FedEx Logistics  \n",
      "3        Munich            Aramex International  \n",
      "4     Vancouver                 FedEx Logistics  \n",
      "5      New York                   UPS Worldwide  \n",
      "6   Los Angeles            Aramex International  \n",
      "7        Berlin            Aramex International  \n",
      "8       Houston                     DHL Express  \n",
      "9       Chicago  Kiwilytics Goods Shipping LLC.  \n",
      "10          NaN            Aramex International  \n",
      "11    Vancouver                     DHL Express  \n",
      "12    Vancouver  Kiwilytics Goods Shipping LLC.  \n",
      "13     New York                     DHL Express  \n",
      "14     Montreal                 FedEx Logistics  \n"
     ]
    }
   ],
   "source": [
    "#scanning the problems in the data set\n",
    "\n",
    "print(df.info())\n",
    "\n",
    "print(df.head(15))"
   ]
  },
  {
   "cell_type": "code",
   "execution_count": 15,
   "id": "91d7bcb1",
   "metadata": {},
   "outputs": [
    {
     "name": "stdout",
     "output_type": "stream",
     "text": [
      "     OrderID CustomerID  OrderDate ShippedDate  ShippingCost ShipCountry  \\\n",
      "230   1230.0       C021 2024-08-26         NaT        392.75          UK   \n",
      "231   1231.0       C022 2024-08-22  2025-07-30        444.34       Egypt   \n",
      "232   1232.0       C023 2024-10-02  2025-07-30         24.38          UK   \n",
      "233   1233.0       C024 2025-06-02  2025-07-30        143.27     Germany   \n",
      "234   1234.0       C025 2024-11-26  2025-07-30           NaN          UK   \n",
      "235   1235.0       C026 2025-03-18  2025-07-30        253.11         USA   \n",
      "236   1236.0       C027 2025-05-16  2025-07-30         37.17          UK   \n",
      "237   1237.0       C028 2025-06-15  2025-07-30         91.77          UK   \n",
      "238   1238.0       C029 2025-03-08  2025-07-30        388.93          UK   \n",
      "239   1239.0       C030 2025-07-22  2025-07-30        340.32          UK   \n",
      "240   1240.0       C001 2024-11-19  2025-07-30        372.98          UK   \n",
      "241   1241.0       C002        NaT  2025-07-30           NaN         USA   \n",
      "242   1242.0       C003 2025-01-16  2025-07-30        241.16         USA   \n",
      "243   1243.0       C004 2024-09-16  2025-07-30         83.54       Egypt   \n",
      "244   1244.0       C005 2025-01-28  2025-07-30        430.17     Germany   \n",
      "\n",
      "        ShipCity                 ShippingCompany  \n",
      "230       London  Kiwilytics Goods Shipping LLC.  \n",
      "231        Cairo                     DHL Express  \n",
      "232    Liverpool                 FedEx Logistics  \n",
      "233       Berlin  Kiwilytics Goods Shipping LLC.  \n",
      "234    Liverpool                   UPS Worldwide  \n",
      "235  Los Angeles            Aramex International  \n",
      "236       London                 FedEx Logistics  \n",
      "237   Manchester                 FedEx Logistics  \n",
      "238   Manchester                 FedEx Logistics  \n",
      "239    Liverpool  Kiwilytics Goods Shipping LLC.  \n",
      "240   Manchester            Aramex International  \n",
      "241      Houston            Aramex International  \n",
      "242     New York  Kiwilytics Goods Shipping LLC.  \n",
      "243        Cairo                     DHL Express  \n",
      "244       Berlin            Aramex International  \n"
     ]
    }
   ],
   "source": [
    "df['OrderDate']=pd.to_datetime(df['OrderDate'],errors='coerce') #change datatype into datetime\n",
    "df['ShippedDate']=pd.to_datetime(df['ShippedDate'],errors='coerce') #change datatype into datetime\n",
    "df['ShippingCost']=pd.to_numeric(df['ShippingCost'],errors='coerce') #change datatype into numeric\n",
    "df.loc[df['ShippingCost']<0,'ShippingCost']=np.nan  #let any cost less than 0 =NaN\n",
    "print(df.tail(15))"
   ]
  },
  {
   "cell_type": "code",
   "execution_count": 14,
   "id": "a44d9a2e",
   "metadata": {},
   "outputs": [
    {
     "name": "stdout",
     "output_type": "stream",
     "text": [
      "<class 'pandas.core.frame.DataFrame'>\n",
      "RangeIndex: 245 entries, 0 to 244\n",
      "Data columns (total 8 columns):\n",
      " #   Column           Non-Null Count  Dtype         \n",
      "---  ------           --------------  -----         \n",
      " 0   OrderID          245 non-null    float64       \n",
      " 1   CustomerID       245 non-null    object        \n",
      " 2   OrderDate        226 non-null    datetime64[ns]\n",
      " 3   ShippedDate      211 non-null    datetime64[ns]\n",
      " 4   ShippingCost     223 non-null    float64       \n",
      " 5   ShipCountry      245 non-null    object        \n",
      " 6   ShipCity         245 non-null    object        \n",
      " 7   ShippingCompany  245 non-null    object        \n",
      "dtypes: datetime64[ns](2), float64(2), object(4)\n",
      "memory usage: 15.4+ KB\n",
      "None\n"
     ]
    },
    {
     "name": "stderr",
     "output_type": "stream",
     "text": [
      "/tmp/ipykernel_4010/3614235176.py:1: FutureWarning: Series.fillna with 'method' is deprecated and will raise in a future version. Use obj.ffill() or obj.bfill() instead.\n",
      "  df['OrderID']=df['OrderID'].fillna(method='ffill') #fill the null value in orderid with the previous orderid\n"
     ]
    }
   ],
   "source": [
    "df['OrderID']=df['OrderID'].fillna(method='ffill') #fill the null value in orderid with the previous orderid\n",
    "df['CustomerID']=df['CustomerID'].fillna(\"unknown\") #filling the null value in customerid with \"unknown\" word\n",
    "df['ShipCity']=df['ShipCity'].fillna(df['ShipCountry']) #filiing the null value in shipcity with the chipcountry value\n",
    "\n",
    "print(df.info())"
   ]
  },
  {
   "cell_type": "code",
   "execution_count": null,
   "id": "2c96cfa8",
   "metadata": {},
   "outputs": [
    {
     "name": "stdout",
     "output_type": "stream",
     "text": [
      "ShipCountry\n",
      "Canada       45\n",
      "Egypt        41\n",
      "Germany      38\n",
      "Palestine    16\n",
      "UK           56\n",
      "USA          49\n",
      "Name: OrderID, dtype: int64\n",
      "54497.68\n",
      "ShipCountry\n",
      "Canada       10623.43\n",
      "Egypt         9231.34\n",
      "Germany       5344.99\n",
      "Palestine     2910.02\n",
      "UK           15986.31\n",
      "USA          10401.59\n",
      "Name: ShippingCost, dtype: float64\n",
      "ShippingCompany\n",
      "Aramex International              51\n",
      "DHL Express                       53\n",
      "FedEx Logistics                   54\n",
      "Kiwilytics Goods Shipping LLC.    41\n",
      "UPS Worldwide                     46\n",
      "Name: OrderID, dtype: int64\n"
     ]
    }
   ],
   "source": [
    "#Analysis\n",
    "\n",
    "print(df.groupby(df['ShipCountry'])['OrderID'].count()) #how many order by each country\n",
    "\n",
    "print(df['ShippingCost'].sum()) #total of shipping cost\n",
    "\n",
    "print(df.groupby(df['ShipCountry'])['ShippingCost'].sum()) #total of shipping cost by each country\n",
    "\n",
    "print(df.groupby(df['ShippingCompany'])['OrderID'].count()) #how many order by each company"
   ]
  },
  {
   "cell_type": "code",
   "execution_count": 32,
   "id": "2e064c53",
   "metadata": {},
   "outputs": [],
   "source": [
    "df.to_csv(\"cleaned_order.csv\",index=False)"
   ]
  }
 ],
 "metadata": {
  "kernelspec": {
   "display_name": "Python 3",
   "language": "python",
   "name": "python3"
  },
  "language_info": {
   "codemirror_mode": {
    "name": "ipython",
    "version": 3
   },
   "file_extension": ".py",
   "mimetype": "text/x-python",
   "name": "python",
   "nbconvert_exporter": "python",
   "pygments_lexer": "ipython3",
   "version": "3.10.12"
  }
 },
 "nbformat": 4,
 "nbformat_minor": 5
}
